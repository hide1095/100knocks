{
 "cells": [
  {
   "cell_type": "code",
   "execution_count": 1,
   "metadata": {},
   "outputs": [
    {
     "data": {
      "text/plain": [
       "'各行の1列目だけを抜き出したものをcol1.txtに，2列目だけを抜き出したものをcol2.txtとしてファイルに保存せよ．確認にはcutコマンドを用いよ'"
      ]
     },
     "execution_count": 1,
     "metadata": {},
     "output_type": "execute_result"
    }
   ],
   "source": [
    "#12\n",
    "\"\"\"各行の1列目だけを抜き出したものをcol1.txtに，2列目だけを抜き出したものをcol2.txtとしてファイルに保存せよ．確認にはcutコマンドを用いよ\"\"\""
   ]
  },
  {
   "cell_type": "code",
   "execution_count": 20,
   "metadata": {
    "scrolled": true
   },
   "outputs": [
    {
     "ename": "IndexError",
     "evalue": "list index out of range",
     "output_type": "error",
     "traceback": [
      "\u001b[1;31m---------------------------------------------------------------------------\u001b[0m",
      "\u001b[1;31mIndexError\u001b[0m                                Traceback (most recent call last)",
      "\u001b[1;32m<ipython-input-20-68ca8a37b7e6>\u001b[0m in \u001b[0;36m<module>\u001b[1;34m\u001b[0m\n\u001b[0;32m     11\u001b[0m     \u001b[0mblock\u001b[0m \u001b[1;33m=\u001b[0m \u001b[0mline\u001b[0m\u001b[1;33m.\u001b[0m\u001b[0msplit\u001b[0m\u001b[1;33m(\u001b[0m\u001b[1;34m\" \"\u001b[0m\u001b[1;33m)\u001b[0m\u001b[1;33m\u001b[0m\u001b[1;33m\u001b[0m\u001b[0m\n\u001b[0;32m     12\u001b[0m     \u001b[0mcol1\u001b[0m \u001b[1;33m+=\u001b[0m \u001b[0mblock\u001b[0m\u001b[1;33m[\u001b[0m\u001b[1;36m0\u001b[0m\u001b[1;33m]\u001b[0m \u001b[1;33m+\u001b[0m \u001b[1;34m\"\\n\"\u001b[0m\u001b[1;33m\u001b[0m\u001b[1;33m\u001b[0m\u001b[0m\n\u001b[1;32m---> 13\u001b[1;33m     \u001b[0mcol2\u001b[0m \u001b[1;33m+=\u001b[0m \u001b[0mblock\u001b[0m\u001b[1;33m[\u001b[0m\u001b[1;36m1\u001b[0m\u001b[1;33m]\u001b[0m\u001b[1;33m\u001b[0m\u001b[1;33m\u001b[0m\u001b[0m\n\u001b[0m\u001b[0;32m     14\u001b[0m \u001b[1;33m\u001b[0m\u001b[0m\n\u001b[0;32m     15\u001b[0m \u001b[1;33m\u001b[0m\u001b[0m\n",
      "\u001b[1;31mIndexError\u001b[0m: list index out of range"
     ]
    }
   ],
   "source": [
    "\"\"\"\n",
    "path = r\"C:\\Users\\ehdi1\\100knocks\\popular-names.txt\"\n",
    "file = open(path,)\n",
    "text = file.read()\n",
    "file.close()\n",
    "\n",
    "col1 = \"\"\n",
    "col2 = \"\"\n",
    "\n",
    "\n",
    "for line in text.split(\"\\n\"):\n",
    "    block = line.split(\" \")\n",
    "    col1 += block[0] + \"\\n\"\n",
    "    col2 += block[1]\n",
    "\n",
    "\n",
    "wfile1 = open(r\"C:\\Users\\ehdi1\\100knocks\\col1.txt\", mode=\"w\")\n",
    "wfile1.write(col1)\n",
    "wfile1.close()\n",
    "\n",
    "\n",
    "wfile2 = open(r\"C:\\Users\\ehdi1\\100knocks\\col2.txt\", mode=\"w\")\n",
    "wfile2.write(col2)\n",
    "wfile2.close()\n",
    "なぜout of rangeになる？\n",
    "\"\"\""
   ]
  },
  {
   "cell_type": "code",
   "execution_count": 27,
   "metadata": {},
   "outputs": [],
   "source": [
    "path = r\"C:\\Users\\ehdi1\\100knocks\\popular-names.txt\"\n",
    "with open(path, mode=\"r\") as f:\n",
    "    linedata = f.readlines()\n",
    "    for l in linedata:\n",
    "        with open(r\"C:\\Users\\ehdi1\\100knocks\\col1.txt\", mode=\"a\") as c1:\n",
    "            c1.write(l.split(\"\\t\")[0] + \"\\r\")\n",
    "        with open(r\"C:\\Users\\ehdi1\\100knocks\\col2.txt\", mode=\"a\") as c2:\n",
    "            c2.write(l.split(\"\\t\")[1] +\"\\r\")\n",
    "            \n",
    "#l.split(\"/t\")[1]をプリントするとFMでるのにtxtでかくにんｓ"
   ]
  },
  {
   "cell_type": "code",
   "execution_count": null,
   "metadata": {},
   "outputs": [],
   "source": []
  }
 ],
 "metadata": {
  "kernelspec": {
   "display_name": "Python 3",
   "language": "python",
   "name": "python3"
  },
  "language_info": {
   "codemirror_mode": {
    "name": "ipython",
    "version": 3
   },
   "file_extension": ".py",
   "mimetype": "text/x-python",
   "name": "python",
   "nbconvert_exporter": "python",
   "pygments_lexer": "ipython3",
   "version": "3.7.4"
  }
 },
 "nbformat": 4,
 "nbformat_minor": 2
}
