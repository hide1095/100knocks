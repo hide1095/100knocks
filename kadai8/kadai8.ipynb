{
 "cells": [
  {
   "cell_type": "code",
   "execution_count": 1,
   "metadata": {},
   "outputs": [
    {
     "data": {
      "text/plain": [
       "'\\n与えられた文字列の各文字を，以下の仕様で変換する関数cipherを実装せよ．\\n英小文字ならば(219 - 文字コード)の文字に置換\\nその他の文字はそのまま出力\\nこの関数を用い，英語のメッセージを暗号化・復号化せよ．\\n'"
      ]
     },
     "execution_count": 1,
     "metadata": {},
     "output_type": "execute_result"
    }
   ],
   "source": [
    "#8\n",
    "\"\"\"\n",
    "与えられた文字列の各文字を，以下の仕様で変換する関数cipherを実装せよ．\n",
    "英小文字ならば(219 - 文字コード)の文字に置換\n",
    "その他の文字はそのまま出力\n",
    "この関数を用い，英語のメッセージを暗号化・復号化せよ．\n",
    "\"\"\""
   ]
  },
  {
   "cell_type": "code",
   "execution_count": 18,
   "metadata": {},
   "outputs": [],
   "source": [
    "class Coder:\n",
    "    def __init__():\n",
    "        pass\n",
    "    \n",
    "    def cipher(input: str):\n",
    "        output = \"\"\n",
    "        for idx in range(len(input)):\n",
    "            if input[idx].islower():\n",
    "                output += chr(219-ord(input[idx]))\n",
    "            else:\n",
    "                output += input[idx]\n",
    "        return output\n",
    "                \n",
    "    def decode(input: str):\n",
    "        output = \"\"\n",
    "        for idx in range(len(input)):\n",
    "            if input[idx].islower():\n",
    "                output += chr(219-ord(input[idx]))\n",
    "            else:\n",
    "                output += input[idx]\n",
    "            \n",
    "        return output"
   ]
  },
  {
   "cell_type": "code",
   "execution_count": 19,
   "metadata": {},
   "outputs": [],
   "source": [
    "input = \"I love Big Mac\"\n",
    "code = Coder\n",
    "input2 = code.cipher(input)\n",
    "output = code.decode(input2)"
   ]
  },
  {
   "cell_type": "code",
   "execution_count": 20,
   "metadata": {},
   "outputs": [
    {
     "name": "stdout",
     "output_type": "stream",
     "text": [
      "I olev Brt Mzx\n",
      "I love Big Mac\n"
     ]
    }
   ],
   "source": [
    "print(input2)\n",
    "print(output)"
   ]
  },
  {
   "cell_type": "code",
   "execution_count": null,
   "metadata": {},
   "outputs": [],
   "source": []
  }
 ],
 "metadata": {
  "kernelspec": {
   "display_name": "Python 3",
   "language": "python",
   "name": "python3"
  },
  "language_info": {
   "codemirror_mode": {
    "name": "ipython",
    "version": 3
   },
   "file_extension": ".py",
   "mimetype": "text/x-python",
   "name": "python",
   "nbconvert_exporter": "python",
   "pygments_lexer": "ipython3",
   "version": "3.7.4"
  }
 },
 "nbformat": 4,
 "nbformat_minor": 2
}
