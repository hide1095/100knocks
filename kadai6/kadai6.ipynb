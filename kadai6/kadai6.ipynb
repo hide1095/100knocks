{
 "cells": [
  {
   "cell_type": "code",
   "execution_count": 22,
   "metadata": {},
   "outputs": [],
   "source": [
    "#6\n",
    "#“paraparaparadise”と”paragraph”に含まれる文字bi-gramの集合を，それぞれ, XとYとして求め，\n",
    "#XとYの和集合，積集合，差集合を求めよ．さらに，’se’というbi-gramがXおよびYに含まれるかどうかを調べよ．"
   ]
  },
  {
   "cell_type": "code",
   "execution_count": 26,
   "metadata": {},
   "outputs": [
    {
     "name": "stdout",
     "output_type": "stream",
     "text": [
      "['pa', 'ar', 'ra', 'ap', 'pa', 'ar', 'ra', 'ap', 'pa', 'ar', 'ra', 'ad', 'di', 'is', 'se', 'e']\n",
      "['pa', 'ar', 'ra', 'ag', 'gr', 'ra', 'ap', 'ph', 'h']\n"
     ]
    }
   ],
   "source": [
    "def Ngram(x,n):\n",
    "\n",
    "    return [x[i:i+n] for i in range(len(x))]\n",
    "\n",
    "x = \"paraparaparadise\"\n",
    "y = \"paragraph\"\n",
    "\n",
    "X = Ngram(x,2)\n",
    "Y = Ngram(y,2)\n",
    "print(X)\n",
    "print(Y)"
   ]
  },
  {
   "cell_type": "code",
   "execution_count": 27,
   "metadata": {},
   "outputs": [],
   "source": [
    "s_X = set(X)\n",
    "s_Y = set(Y)\n",
    "Wa = (s_X | s_Y)\n",
    "Seki = (s_X & s_Y)\n",
    "Sa = (s_X - s_Y)"
   ]
  },
  {
   "cell_type": "code",
   "execution_count": 29,
   "metadata": {},
   "outputs": [
    {
     "name": "stdout",
     "output_type": "stream",
     "text": [
      "{'ad', 'is', 'pa', 'se', 'ar', 'di', 'e', 'ra', 'ap'}\n",
      "{'gr', 'pa', 'ag', 'ph', 'h', 'ar', 'ra', 'ap'}\n",
      "{'ra', 'ar', 'pa', 'ap'}\n",
      "{'ad', 'is', 'pa', 'se', 'gr', 'ag', 'ph', 'h', 'ar', 'di', 'e', 'ra', 'ap'}\n",
      "{'se', 'ad', 'is', 'di', 'e'}\n"
     ]
    }
   ],
   "source": [
    "print(s_X)\n",
    "print(s_Y)\n",
    "print(Seki)\n",
    "print(Wa)\n",
    "print(Sa)"
   ]
  },
  {
   "cell_type": "code",
   "execution_count": null,
   "metadata": {},
   "outputs": [],
   "source": []
  },
  {
   "cell_type": "code",
   "execution_count": null,
   "metadata": {},
   "outputs": [],
   "source": []
  }
 ],
 "metadata": {
  "kernelspec": {
   "display_name": "Python 3",
   "language": "python",
   "name": "python3"
  },
  "language_info": {
   "codemirror_mode": {
    "name": "ipython",
    "version": 3
   },
   "file_extension": ".py",
   "mimetype": "text/x-python",
   "name": "python",
   "nbconvert_exporter": "python",
   "pygments_lexer": "ipython3",
   "version": "3.7.4"
  }
 },
 "nbformat": 4,
 "nbformat_minor": 2
}
