{
 "cells": [
  {
   "cell_type": "code",
   "execution_count": 1,
   "metadata": {},
   "outputs": [
    {
     "data": {
      "text/plain": [
       "'スペースで区切られた単語列に対して，各単語の先頭と末尾の文字は残し，それ以外の文字の順序をランダムに並び替えるプログラムを作成せよ．ただし，長さが４以下の単語は並び替えないこととする．適当な英語の文（例えば”I couldn’t believe that I could actually understand what I was reading : the phenomenal power of the human mind .”）を与え，その実行結果を確認せよ．'"
      ]
     },
     "execution_count": 1,
     "metadata": {},
     "output_type": "execute_result"
    }
   ],
   "source": [
    "#9\n",
    "\"\"\"スペースで区切られた単語列に対して，各単語の先頭と末尾の文字は残し，それ以外の文字の順序をランダムに並び替えるプログラムを作成せよ．ただし，長さが４以下の単語は並び替えないこととする．適当な英語の文（例えば”I couldn’t believe that I could actually understand what I was reading : the phenomenal power of the human mind .”）を与え，その実行結果を確認せよ．\"\"\""
   ]
  },
  {
   "cell_type": "code",
   "execution_count": 32,
   "metadata": {},
   "outputs": [],
   "source": [
    "import random"
   ]
  },
  {
   "cell_type": "code",
   "execution_count": null,
   "metadata": {},
   "outputs": [],
   "source": [
    "\"\"\"\n",
    "def kadai9(input:str):\n",
    "    output = \"\"\n",
    "    for idx in range(len(input.split())):\n",
    "        if 文字数が4文字より大きければ:\n",
    "            output += input.split[idx][0]\n",
    "            output += input.split[idx]をスライスして最初と最後以外をシャッフルする。\n",
    "            output += input.split[idx][-1]\n",
    "            \n",
    "        else:\n",
    "            output += input.split[idx]\n",
    "    \n",
    "    \n",
    "    return output\n",
    "\"\"\""
   ]
  },
  {
   "cell_type": "code",
   "execution_count": 33,
   "metadata": {},
   "outputs": [],
   "source": [
    "def kadai9(input:str):\n",
    "    output = \"\"\n",
    "    for idx in range(len(input.split())):\n",
    "        if len(input.split()[idx]) > 4:\n",
    "            \n",
    "            put = \"\".join(random.sample(input.split()[idx][1:-1],len(input.split()[idx][1:-1])))\n",
    "            output += input.split()[idx][0]\n",
    "            output += put\n",
    "            output += input.split()[idx][-1]\n",
    "            output += \" \"\n",
    "            \n",
    "        else:\n",
    "            output += input.split()[idx]\n",
    "            output += \" \"\n",
    "            \n",
    "    return output"
   ]
  },
  {
   "cell_type": "code",
   "execution_count": 34,
   "metadata": {},
   "outputs": [
    {
     "data": {
      "text/plain": [
       "'I c’oldunt bvileee that I cloud aaclluty uendsatrnd what I was rdaieng : the pnaeoemnhl poewr of the huamn mind . '"
      ]
     },
     "execution_count": 34,
     "metadata": {},
     "output_type": "execute_result"
    }
   ],
   "source": [
    "kadai9(input)"
   ]
  },
  {
   "cell_type": "code",
   "execution_count": 30,
   "metadata": {},
   "outputs": [
    {
     "data": {
      "text/plain": [
       "'I cu’noldt belivee that I culod aauctlly undrnstaed what I was rndaeig : the pomhaenenl pwoer of the hamun mind . '"
      ]
     },
     "execution_count": 30,
     "metadata": {},
     "output_type": "execute_result"
    }
   ],
   "source": []
  },
  {
   "cell_type": "code",
   "execution_count": null,
   "metadata": {},
   "outputs": [],
   "source": []
  }
 ],
 "metadata": {
  "kernelspec": {
   "display_name": "Python 3",
   "language": "python",
   "name": "python3"
  },
  "language_info": {
   "codemirror_mode": {
    "name": "ipython",
    "version": 3
   },
   "file_extension": ".py",
   "mimetype": "text/x-python",
   "name": "python",
   "nbconvert_exporter": "python",
   "pygments_lexer": "ipython3",
   "version": "3.7.4"
  }
 },
 "nbformat": 4,
 "nbformat_minor": 2
}
